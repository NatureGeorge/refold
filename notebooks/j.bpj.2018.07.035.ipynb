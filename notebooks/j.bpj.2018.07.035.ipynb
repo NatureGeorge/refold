{
 "cells": [
  {
   "cell_type": "markdown",
   "metadata": {},
   "source": [
    "# Reproduction of `j.bpj.2018.07.035`\n",
    "\n",
    "```bibtex\n",
    "@article{10.1016/j.bpj.2018.07.035,\n",
    "  author    = {Anishchenko, Ivan\n",
    "               and Kundrotas, Petras J.\n",
    "               and Vakser, Ilya A.},\n",
    "  title     = {{Contact Potential for Structure Prediction of Proteins and Protein Complexes from Potts Model}},\n",
    "  journal   = {Biophysical Journal},\n",
    "  year      = {2018},\n",
    "  month     = {Sep},\n",
    "  day       = {04},\n",
    "  publisher = {Elsevier},\n",
    "  volume    = {115},\n",
    "  number    = {5},\n",
    "  pages     = {809-821},\n",
    "  issn      = {0006-3495},\n",
    "  doi       = {10.1016/j.bpj.2018.07.035},\n",
    "  url       = {https://doi.org/10.1016/j.bpj.2018.07.035}\n",
    "}\n",
    "```\n",
    "\n",
    "$$\n",
    "\\begin{aligned}\n",
    "L_{p}(\\vec{\\mathbf{h}}, \\mathbf{J}) &= \\prod_{i=1}^{L}\\frac{\\exp\\left[-U(v_{i}^{\\text{nat}};N_{i}^{\\text{nat}})\\right]}\n",
    "{\\sum_{k=1}^{q}\\exp\\left[-U(v_{i}^{k};N_{i}^{\\text{nat}})\\right]}\n",
    "\\\\\n",
    "-\\log(L_{p}) &= \\sum_{i=1}^{L}\\left[U(v_{i}^{\\text{nat}};N_{i}^{\\text{nat}})+\\log\\sum_{k=1}^{q}\\exp[-U(v_{i}^{k};N_{i}^{\\text{nat}})] \\right]\n",
    "\\end{aligned}\n",
    "$$"
   ]
  }
 ],
 "metadata": {
  "interpreter": {
   "hash": "2266c607543d224cb119288ea55888d6fda87cc9a4c78c02ed099d39082a76ce"
  },
  "kernelspec": {
   "display_name": "Python 3.7.9 ('base')",
   "language": "python",
   "name": "python3"
  },
  "language_info": {
   "codemirror_mode": {
    "name": "ipython",
    "version": 3
   },
   "file_extension": ".py",
   "mimetype": "text/x-python",
   "name": "python",
   "nbconvert_exporter": "python",
   "pygments_lexer": "ipython3",
   "version": "3.7.9"
  },
  "orig_nbformat": 4
 },
 "nbformat": 4,
 "nbformat_minor": 2
}
