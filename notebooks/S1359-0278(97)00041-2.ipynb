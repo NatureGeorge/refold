{
 "cells": [
  {
   "cell_type": "markdown",
   "metadata": {},
   "source": [
    "# Reproduction of `S1359-0278(97)00041-2`\n",
    "\n",
    "```bibtex\n",
    "@article{S1359-0278(97)00041-2,\n",
    "  title    = {{Recovery of protein structure from contact maps}},\n",
    "  journal  = {Folding and Design},\n",
    "  volume   = {2},\n",
    "  number   = {5},\n",
    "  pages    = {295-306},\n",
    "  year     = {1997},\n",
    "  issn     = {1359-0278},\n",
    "  doi      = {https://doi.org/10.1016/S1359-0278(97)00041-2},\n",
    "  url      = {https://www.sciencedirect.com/science/article/pii/S1359027897000412},\n",
    "  author   = {Michele Vendruscolo and Edo Kussell and Eytan Domany}\n",
    "}\n",
    "```"
   ]
  }
 ],
 "metadata": {
  "language_info": {
   "name": "python"
  },
  "orig_nbformat": 4
 },
 "nbformat": 4,
 "nbformat_minor": 2
}
