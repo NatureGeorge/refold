{
 "cells": [
  {
   "cell_type": "markdown",
   "metadata": {},
   "source": [
    "# Reproduction of `pro.4155`\n",
    "\n",
    "```bibtex\n",
    "@article{10.1002/pro.4155,\n",
    "  author   = {Norn, Christoffer and André, Ingemar and Theobald, Douglas L.},\n",
    "  title    = {A thermodynamic model of protein structure evolution explains empirical amino acid substitution matrices},\n",
    "  journal  = {Protein Science},\n",
    "  volume   = {30},\n",
    "  number   = {10},\n",
    "  pages    = {2057-2068},\n",
    "  keywords = {amino acid substitution, exchangeabilities, protein evolution, protein stability, replacement matrices},\n",
    "  doi      = {https://doi.org/10.1002/pro.4155},\n",
    "  url      = {https://onlinelibrary.wiley.com/doi/abs/10.1002/pro.4155},\n",
    "  eprint   = {https://onlinelibrary.wiley.com/doi/pdf/10.1002/pro.4155},\n",
    "  year     = {2021}\n",
    "}\n",
    "```\n",
    "\n",
    "> DATA AVAILABILITY STATEMENT\n",
    "Data, substitution matrices, and scripts for analysis are available here: https://github.com/Andre-lab/TMS"
   ]
  }
 ],
 "metadata": {
  "interpreter": {
   "hash": "0d6189d029e90edd1dd0af21f171d54f89d474f2bb510270e7aa7f57b3a69d6a"
  },
  "kernelspec": {
   "display_name": "Python 3.7.9 ('base')",
   "language": "python",
   "name": "python3"
  },
  "language_info": {
   "name": "python",
   "version": "3.7.9"
  },
  "orig_nbformat": 4
 },
 "nbformat": 4,
 "nbformat_minor": 2
}
