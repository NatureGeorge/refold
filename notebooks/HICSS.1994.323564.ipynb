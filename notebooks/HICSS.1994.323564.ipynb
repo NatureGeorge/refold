{
 "cells": [
  {
   "cell_type": "markdown",
   "metadata": {},
   "source": [
    "# Reproduction of `HICSS.1994.323564`\n",
    "\n",
    "```bibtex\n",
    "@inproceedings{10.1109/HICSS.1994.323564,\n",
    "  author    = {Stanislav G. Galaktionov and Garland R. Marshall},\n",
    "  booktitle = {1994 Proceedings of the Twenty-Seventh Hawaii International Conference on System Sciences},\n",
    "  title     = {Properties of intraglobular contacts in proteins: an approach to prediction of tertiary structure},\n",
    "  year      = {1994},\n",
    "  volume    = {5},\n",
    "  number    = {},\n",
    "  pages     = {326-335},\n",
    "  doi       = {10.1109/HICSS.1994.323564},\n",
    "  url       = {https://ieeexplore.ieee.org/document/323564}\n",
    "}\n",
    "```\n"
   ]
  },
  {
   "cell_type": "code",
   "execution_count": null,
   "metadata": {},
   "outputs": [],
   "source": []
  }
 ],
 "metadata": {
  "interpreter": {
   "hash": "0d6189d029e90edd1dd0af21f171d54f89d474f2bb510270e7aa7f57b3a69d6a"
  },
  "kernelspec": {
   "display_name": "Python 3.7.9 ('base')",
   "language": "python",
   "name": "python3"
  },
  "language_info": {
   "name": "python",
   "version": "3.7.9"
  },
  "orig_nbformat": 4
 },
 "nbformat": 4,
 "nbformat_minor": 2
}
